{
 "cells": [
  {
   "cell_type": "markdown",
   "metadata": {},
   "source": [
    "Stock and ETFs prices are predicted using LSTM network (Keras-Tensorflow).\n",
    "\n",
    "Code: https://github.com/omerbsezer/LSTM_RNN_Tutorials_with_Demo/tree/master/StockPricesPredictionProject\n",
    "\n",
    "- Stock prices are downloaded from finance.yahoo.com. Disneyland (DIS) Stock Price CSV file.\n",
    "- Closed value (column[5]) is used in the network, LSTM Code\n",
    "- Values are normalized in range (0,1).\n",
    "- Datasets are splitted into train and test sets, 50% test data, 50% training data.\n",
    "- Keras-Tensorflow is used for implementation.\n",
    "- LSTM network consists of 25 hidden neurons, and 1 output layer (1 dense layer).\n",
    "- LSTM network features input: 1 layer, output: 1 layer , hidden: 25 neurons, optimizer:adam, dropout:0.1, timestep:240, batchsize:240, epochs:1000 (features can be further optimized).\n",
    "- Root mean squared errors are calculated.\n",
    "- Output files: lstm_results (consists of prediction and actual values), plot file (actual and prediction values).\n"
   ]
  },
  {
   "cell_type": "code",
   "execution_count": null,
   "metadata": {},
   "outputs": [],
   "source": []
  }
 ],
 "metadata": {
  "kernelspec": {
   "display_name": "Python 3",
   "language": "python",
   "name": "python3"
  },
  "language_info": {
   "codemirror_mode": {
    "name": "ipython",
    "version": 3
   },
   "file_extension": ".py",
   "mimetype": "text/x-python",
   "name": "python",
   "nbconvert_exporter": "python",
   "pygments_lexer": "ipython3",
   "version": "3.7.3"
  }
 },
 "nbformat": 4,
 "nbformat_minor": 2
}
